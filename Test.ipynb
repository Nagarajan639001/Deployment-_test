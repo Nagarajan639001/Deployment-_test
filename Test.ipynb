{
 "cells": [
  {
   "cell_type": "code",
   "execution_count": null,
   "id": "f994f3c1",
   "metadata": {},
   "outputs": [],
   "source": [
    "import pickle\n",
    "filename1=\"initial_data.sav\""
   ]
  },
  {
   "cell_type": "code",
   "execution_count": null,
   "id": "4a0e83a7",
   "metadata": {},
   "outputs": [],
   "source": [
    "sc,scy=pickle.load(open(\"initial_data.sav\",'rb'))"
   ]
  },
  {
   "cell_type": "code",
   "execution_count": null,
   "id": "28ee0362",
   "metadata": {},
   "outputs": [],
   "source": [
    "sc,scy"
   ]
  },
  {
   "cell_type": "code",
   "execution_count": null,
   "id": "cad0fb74",
   "metadata": {},
   "outputs": [],
   "source": [
    "filename2=\"Finalized_model_SVR.sav\"\n",
    "preinput=sc.transform([[1300,12000,4000,0,1]])\n",
    "loaded_model=picle.load(open(\"Finalized_model_SVR.sav\",'rb'))\n",
    "result=loaded_model.predict(preinput)"
   ]
  },
  {
   "cell_type": "code",
   "execution_count": null,
   "id": "f9a31133",
   "metadata": {},
   "outputs": [],
   "source": [
    "result"
   ]
  },
  {
   "cell_type": "code",
   "execution_count": null,
   "id": "baf5dfd0",
   "metadata": {},
   "outputs": [],
   "source": [
    "preoutput=scy.inverse_transform([result])"
   ]
  },
  {
   "cell_type": "code",
   "execution_count": null,
   "id": "00373f8a",
   "metadata": {},
   "outputs": [],
   "source": [
    "preoutput"
   ]
  }
 ],
 "metadata": {
  "kernelspec": {
   "display_name": "Python 3 (ipykernel)",
   "language": "python",
   "name": "python3"
  },
  "language_info": {
   "codemirror_mode": {
    "name": "ipython",
    "version": 3
   },
   "file_extension": ".py",
   "mimetype": "text/x-python",
   "name": "python",
   "nbconvert_exporter": "python",
   "pygments_lexer": "ipython3",
   "version": "3.7.1"
  }
 },
 "nbformat": 4,
 "nbformat_minor": 5
}
